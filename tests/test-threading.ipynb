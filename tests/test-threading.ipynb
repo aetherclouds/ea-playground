{
 "cells": [
  {
   "cell_type": "code",
   "execution_count": 3,
   "metadata": {},
   "outputs": [
    {
     "name": "stdout",
     "output_type": "stream",
     "text": [
      "e\n",
      "a\n",
      "c\n",
      "b\n",
      "d\n",
      "['a2', 'b2', 'c2', 'd2', 'e2']\n"
     ]
    }
   ],
   "source": [
    "from multiprocessing.pool import ThreadPool\n",
    "from functools import partial\n",
    "from time import sleep\n",
    "from random import randint\n",
    "\n",
    "def dosomething(var,s):\n",
    "    sleep(randint(2,3))\n",
    "    print(var)\n",
    "    return var + s\n",
    "\n",
    "array = [\"a\", \"b\", \"c\", \"d\", \"e\"]\n",
    "\n",
    "lambd = 20\n",
    "\n",
    "with ThreadPool(processes=5) as pool:\n",
    "    resp_ = pool.map(partial(dosomething,lambd=lambd), parameters)\n",
    "    print(resp_)"
   ]
  }
 ],
 "metadata": {
  "kernelspec": {
   "display_name": "Python 3",
   "language": "python",
   "name": "python3"
  },
  "language_info": {
   "codemirror_mode": {
    "name": "ipython",
    "version": 3
   },
   "file_extension": ".py",
   "mimetype": "text/x-python",
   "name": "python",
   "nbconvert_exporter": "python",
   "pygments_lexer": "ipython3",
   "version": "3.11.3"
  },
  "orig_nbformat": 4
 },
 "nbformat": 4,
 "nbformat_minor": 2
}
